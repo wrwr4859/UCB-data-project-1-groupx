{
 "cells": [
  {
   "cell_type": "code",
   "execution_count": null,
   "metadata": {},
   "outputs": [],
   "source": [
    "labor_min = laborforce_data.min()\n",
    "labor_max = laborforce_data.max()\n",
    "labor_median = laborforce_data.median()\n",
    "labor_average = laborforce_data.mean()\n",
    "labor_std = laborforce_data.std()\n"
   ]
  },
  {
   "cell_type": "code",
   "execution_count": null,
   "metadata": {},
   "outputs": [],
   "source": [
    "GDP_min = gdp_data.min()\n",
    "GDP_max = gdp_data.max()\n",
    "GDP_median = gdp_data.median()\n",
    "GDP_average = gdp_data.mean()\n",
    "GDP_std = gdp_data.std()"
   ]
  },
  {
   "cell_type": "code",
   "execution_count": null,
   "metadata": {},
   "outputs": [],
   "source": [
    "immig_min = immigration_data.min()\n",
    "immig_max = immigration_data.max()\n",
    "immig_median = immigration_data.median()\n",
    "immig_average = immigration_data.mean()\n",
    "immig_std = immigration_data.std()"
   ]
  },
  {
   "cell_type": "code",
   "execution_count": null,
   "metadata": {},
   "outputs": [],
   "source": [
    "fed_funds_min = fedfund_data.min()\n",
    "fed_funds_max = fedfund_data.max()\n",
    "fed_funds_median = fedfund_data.median()\n",
    "fed_funds_average = fedfund_data.mean()\n",
    "fed_funds_std = fedfund_data.std()"
   ]
  },
  {
   "cell_type": "code",
   "execution_count": null,
   "metadata": {},
   "outputs": [],
   "source": [
    "real_gdp_growth_min = df_men3[\"Last Quarter Real GDP Growth\"].min()\n",
    "real_gdp_growth_max = df_men3[\"Last Quarter Real GDP Growth\"].max()\n",
    "real_gdp_growth_median = df_men3[\"Last Quarter Real GDP Growth\"].median()\n",
    "real_gdp_growth_average = df_men3[\"Last Quarter Real GDP Growth\"].mean()\n",
    "real_gdp_growth_std = df_men3[\"Last Quarter Real GDP Growth\"].std()"
   ]
  },
  {
   "cell_type": "code",
   "execution_count": null,
   "metadata": {},
   "outputs": [],
   "source": [
    "unemployment_min = df_men3[\"Unemployment Rate\"].min()\n",
    "unemployment_max = df_men3[\"Unemployment Rate\"].max()\n",
    "unemployment_median = df_men3[\"Unemployment Rate\"].median()\n",
    "unemployment_average = df_men3[\"Unemployment Rate\"].mean()\n",
    "unemployment_std = df_men3[\"Unemployment Rate\"].std()"
   ]
  },
  {
   "cell_type": "code",
   "execution_count": null,
   "metadata": {},
   "outputs": [],
   "source": [
    "real_gdp_growth_min = df_women2[\"Last Quarter Real GDP Growth\"].min()\n",
    "real_gdp_growth_max = df_women2[\"Last Quarter Real GDP Growth\"].max()\n",
    "real_gdp_growth_median = df_women2[\"Last Quarter Real GDP Growth\"].median()\n",
    "real_gdp_growth_average = df_women2[\"Last Quarter Real GDP Growth\"].mean()\n",
    "real_gdp_growth_std = df_women2[\"Last Quarter Real GDP Growth\"].std()"
   ]
  },
  {
   "cell_type": "code",
   "execution_count": null,
   "metadata": {},
   "outputs": [],
   "source": [
    "unemployment_min = df_women2[\"Unemployment Rate\"].min()\n",
    "unemployment_max = df_women2[\"Unemployment Rate\"].max()\n",
    "unemployment_median = df_women2[\"Unemployment Rate\"].median()\n",
    "unemployment_average = df_women2[\"Unemployment Rate\"].mean()\n",
    "unemployment_std = df_women2[\"Unemployment Rate\"].std()"
   ]
  }
 ],
 "metadata": {
  "language_info": {
   "name": "python"
  }
 },
 "nbformat": 4,
 "nbformat_minor": 2
}
